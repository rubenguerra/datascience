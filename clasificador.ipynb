{
  "nbformat": 4,
  "nbformat_minor": 0,
  "metadata": {
    "colab": {
      "name": "clasificador.ipynb",
      "provenance": [],
      "authorship_tag": "ABX9TyPADJkiQXogmKuzEml5k39J",
      "include_colab_link": true
    },
    "kernelspec": {
      "name": "python3",
      "display_name": "Python 3"
    }
  },
  "cells": [
    {
      "cell_type": "markdown",
      "metadata": {
        "id": "view-in-github",
        "colab_type": "text"
      },
      "source": [
        "<a href=\"https://colab.research.google.com/github/rubenguerra/datascience/blob/master/clasificador.ipynb\" target=\"_parent\"><img src=\"https://colab.research.google.com/assets/colab-badge.svg\" alt=\"Open In Colab\"/></a>"
      ]
    },
    {
      "cell_type": "code",
      "metadata": {
        "id": "fGDnPXnMUUTD"
      },
      "source": [
        "%tensorflow_version 2.x"
      ],
      "execution_count": 1,
      "outputs": []
    },
    {
      "cell_type": "code",
      "metadata": {
        "id": "zVQrBywedlzU"
      },
      "source": [
        ""
      ],
      "execution_count": null,
      "outputs": []
    },
    {
      "cell_type": "code",
      "metadata": {
        "id": "4BWeAEUTU9yG"
      },
      "source": [
        "from __future__ import absolute_import, division, print_function, unicode_literals\n",
        "\n",
        "import tensorflow as tf\n",
        "import pandas as pd\n",
        "import matplotlib.pyplot as plt\n",
        "\n",
        "\n",
        "from pandas import read_csv\n",
        "from pandas.plotting import scatter_matrix\n",
        "from matplotlib import pyplot\n",
        "from sklearn.model_selection import train_test_split, cross_val_score, StratifiedKFold\n",
        "from sklearn.metrics import classification_report, confusion_matrix, accuracy_score\n",
        "from sklearn.linear_model import LogisticRegression\n",
        "from sklearn.tree import DecisionTreeClassifier\n",
        "from sklearn.neighbors import KNeighborsClassifier\n",
        "from sklearn.discriminant_analysis import LinearDiscriminantAnalysis\n",
        "from sklearn.naive_bayes import GaussianNB\n",
        "from sklearn.svm import SVC"
      ],
      "execution_count": 2,
      "outputs": []
    },
    {
      "cell_type": "markdown",
      "metadata": {
        "id": "gTp8Urs1VYdR"
      },
      "source": [
        "BAJAMOS EL DATASET"
      ]
    },
    {
      "cell_type": "code",
      "metadata": {
        "id": "VhC1_x1jVU5q"
      },
      "source": [
        "CSV_COLUMN_NAMES = ['Largo_sepalo', 'Ancho_sepalo', 'Largo_Petalo', 'Ancho_Petalo', 'Especie']\n",
        "SPECIES = ['Setosa', 'Versicolor', 'Virginica']"
      ],
      "execution_count": 3,
      "outputs": []
    },
    {
      "cell_type": "code",
      "metadata": {
        "id": "jNKMQXoeggX0"
      },
      "source": [
        "url='https://raw.githubusercontent.com/jbrownlee/Datasets/master/iris.csv'\n",
        "\n",
        "dataset=read_csv(url, names=CSV_COLUMN_NAMES)\n"
      ],
      "execution_count": 4,
      "outputs": []
    },
    {
      "cell_type": "code",
      "metadata": {
        "id": "dO7Zvj_ehTqw",
        "outputId": "79c9fcf4-85d6-4fd9-994d-324e603b69b2",
        "colab": {
          "base_uri": "https://localhost:8080/",
          "height": 35
        }
      },
      "source": [
        "print(dataset.shape)"
      ],
      "execution_count": 5,
      "outputs": [
        {
          "output_type": "stream",
          "text": [
            "(150, 5)\n"
          ],
          "name": "stdout"
        }
      ]
    },
    {
      "cell_type": "code",
      "metadata": {
        "id": "s6sZfT5ehfuL",
        "outputId": "28b1072d-c54a-4280-e156-91a0b69fc097",
        "colab": {
          "base_uri": "https://localhost:8080/",
          "height": 673
        }
      },
      "source": [
        "dataset.head(20)"
      ],
      "execution_count": 7,
      "outputs": [
        {
          "output_type": "execute_result",
          "data": {
            "text/html": [
              "<div>\n",
              "<style scoped>\n",
              "    .dataframe tbody tr th:only-of-type {\n",
              "        vertical-align: middle;\n",
              "    }\n",
              "\n",
              "    .dataframe tbody tr th {\n",
              "        vertical-align: top;\n",
              "    }\n",
              "\n",
              "    .dataframe thead th {\n",
              "        text-align: right;\n",
              "    }\n",
              "</style>\n",
              "<table border=\"1\" class=\"dataframe\">\n",
              "  <thead>\n",
              "    <tr style=\"text-align: right;\">\n",
              "      <th></th>\n",
              "      <th>Largo_sepalo</th>\n",
              "      <th>Ancho_sepalo</th>\n",
              "      <th>Largo_Petalo</th>\n",
              "      <th>Ancho_Petalo</th>\n",
              "      <th>Especie</th>\n",
              "    </tr>\n",
              "  </thead>\n",
              "  <tbody>\n",
              "    <tr>\n",
              "      <th>0</th>\n",
              "      <td>5.1</td>\n",
              "      <td>3.5</td>\n",
              "      <td>1.4</td>\n",
              "      <td>0.2</td>\n",
              "      <td>Iris-setosa</td>\n",
              "    </tr>\n",
              "    <tr>\n",
              "      <th>1</th>\n",
              "      <td>4.9</td>\n",
              "      <td>3.0</td>\n",
              "      <td>1.4</td>\n",
              "      <td>0.2</td>\n",
              "      <td>Iris-setosa</td>\n",
              "    </tr>\n",
              "    <tr>\n",
              "      <th>2</th>\n",
              "      <td>4.7</td>\n",
              "      <td>3.2</td>\n",
              "      <td>1.3</td>\n",
              "      <td>0.2</td>\n",
              "      <td>Iris-setosa</td>\n",
              "    </tr>\n",
              "    <tr>\n",
              "      <th>3</th>\n",
              "      <td>4.6</td>\n",
              "      <td>3.1</td>\n",
              "      <td>1.5</td>\n",
              "      <td>0.2</td>\n",
              "      <td>Iris-setosa</td>\n",
              "    </tr>\n",
              "    <tr>\n",
              "      <th>4</th>\n",
              "      <td>5.0</td>\n",
              "      <td>3.6</td>\n",
              "      <td>1.4</td>\n",
              "      <td>0.2</td>\n",
              "      <td>Iris-setosa</td>\n",
              "    </tr>\n",
              "    <tr>\n",
              "      <th>5</th>\n",
              "      <td>5.4</td>\n",
              "      <td>3.9</td>\n",
              "      <td>1.7</td>\n",
              "      <td>0.4</td>\n",
              "      <td>Iris-setosa</td>\n",
              "    </tr>\n",
              "    <tr>\n",
              "      <th>6</th>\n",
              "      <td>4.6</td>\n",
              "      <td>3.4</td>\n",
              "      <td>1.4</td>\n",
              "      <td>0.3</td>\n",
              "      <td>Iris-setosa</td>\n",
              "    </tr>\n",
              "    <tr>\n",
              "      <th>7</th>\n",
              "      <td>5.0</td>\n",
              "      <td>3.4</td>\n",
              "      <td>1.5</td>\n",
              "      <td>0.2</td>\n",
              "      <td>Iris-setosa</td>\n",
              "    </tr>\n",
              "    <tr>\n",
              "      <th>8</th>\n",
              "      <td>4.4</td>\n",
              "      <td>2.9</td>\n",
              "      <td>1.4</td>\n",
              "      <td>0.2</td>\n",
              "      <td>Iris-setosa</td>\n",
              "    </tr>\n",
              "    <tr>\n",
              "      <th>9</th>\n",
              "      <td>4.9</td>\n",
              "      <td>3.1</td>\n",
              "      <td>1.5</td>\n",
              "      <td>0.1</td>\n",
              "      <td>Iris-setosa</td>\n",
              "    </tr>\n",
              "    <tr>\n",
              "      <th>10</th>\n",
              "      <td>5.4</td>\n",
              "      <td>3.7</td>\n",
              "      <td>1.5</td>\n",
              "      <td>0.2</td>\n",
              "      <td>Iris-setosa</td>\n",
              "    </tr>\n",
              "    <tr>\n",
              "      <th>11</th>\n",
              "      <td>4.8</td>\n",
              "      <td>3.4</td>\n",
              "      <td>1.6</td>\n",
              "      <td>0.2</td>\n",
              "      <td>Iris-setosa</td>\n",
              "    </tr>\n",
              "    <tr>\n",
              "      <th>12</th>\n",
              "      <td>4.8</td>\n",
              "      <td>3.0</td>\n",
              "      <td>1.4</td>\n",
              "      <td>0.1</td>\n",
              "      <td>Iris-setosa</td>\n",
              "    </tr>\n",
              "    <tr>\n",
              "      <th>13</th>\n",
              "      <td>4.3</td>\n",
              "      <td>3.0</td>\n",
              "      <td>1.1</td>\n",
              "      <td>0.1</td>\n",
              "      <td>Iris-setosa</td>\n",
              "    </tr>\n",
              "    <tr>\n",
              "      <th>14</th>\n",
              "      <td>5.8</td>\n",
              "      <td>4.0</td>\n",
              "      <td>1.2</td>\n",
              "      <td>0.2</td>\n",
              "      <td>Iris-setosa</td>\n",
              "    </tr>\n",
              "    <tr>\n",
              "      <th>15</th>\n",
              "      <td>5.7</td>\n",
              "      <td>4.4</td>\n",
              "      <td>1.5</td>\n",
              "      <td>0.4</td>\n",
              "      <td>Iris-setosa</td>\n",
              "    </tr>\n",
              "    <tr>\n",
              "      <th>16</th>\n",
              "      <td>5.4</td>\n",
              "      <td>3.9</td>\n",
              "      <td>1.3</td>\n",
              "      <td>0.4</td>\n",
              "      <td>Iris-setosa</td>\n",
              "    </tr>\n",
              "    <tr>\n",
              "      <th>17</th>\n",
              "      <td>5.1</td>\n",
              "      <td>3.5</td>\n",
              "      <td>1.4</td>\n",
              "      <td>0.3</td>\n",
              "      <td>Iris-setosa</td>\n",
              "    </tr>\n",
              "    <tr>\n",
              "      <th>18</th>\n",
              "      <td>5.7</td>\n",
              "      <td>3.8</td>\n",
              "      <td>1.7</td>\n",
              "      <td>0.3</td>\n",
              "      <td>Iris-setosa</td>\n",
              "    </tr>\n",
              "    <tr>\n",
              "      <th>19</th>\n",
              "      <td>5.1</td>\n",
              "      <td>3.8</td>\n",
              "      <td>1.5</td>\n",
              "      <td>0.3</td>\n",
              "      <td>Iris-setosa</td>\n",
              "    </tr>\n",
              "  </tbody>\n",
              "</table>\n",
              "</div>"
            ],
            "text/plain": [
              "    Largo_sepalo  Ancho_sepalo  Largo_Petalo  Ancho_Petalo      Especie\n",
              "0            5.1           3.5           1.4           0.2  Iris-setosa\n",
              "1            4.9           3.0           1.4           0.2  Iris-setosa\n",
              "2            4.7           3.2           1.3           0.2  Iris-setosa\n",
              "3            4.6           3.1           1.5           0.2  Iris-setosa\n",
              "4            5.0           3.6           1.4           0.2  Iris-setosa\n",
              "5            5.4           3.9           1.7           0.4  Iris-setosa\n",
              "6            4.6           3.4           1.4           0.3  Iris-setosa\n",
              "7            5.0           3.4           1.5           0.2  Iris-setosa\n",
              "8            4.4           2.9           1.4           0.2  Iris-setosa\n",
              "9            4.9           3.1           1.5           0.1  Iris-setosa\n",
              "10           5.4           3.7           1.5           0.2  Iris-setosa\n",
              "11           4.8           3.4           1.6           0.2  Iris-setosa\n",
              "12           4.8           3.0           1.4           0.1  Iris-setosa\n",
              "13           4.3           3.0           1.1           0.1  Iris-setosa\n",
              "14           5.8           4.0           1.2           0.2  Iris-setosa\n",
              "15           5.7           4.4           1.5           0.4  Iris-setosa\n",
              "16           5.4           3.9           1.3           0.4  Iris-setosa\n",
              "17           5.1           3.5           1.4           0.3  Iris-setosa\n",
              "18           5.7           3.8           1.7           0.3  Iris-setosa\n",
              "19           5.1           3.8           1.5           0.3  Iris-setosa"
            ]
          },
          "metadata": {
            "tags": []
          },
          "execution_count": 7
        }
      ]
    },
    {
      "cell_type": "code",
      "metadata": {
        "id": "RoE-gvMeh5wg",
        "outputId": "5cd0762b-f6e0-4024-fc3b-613b9159619e",
        "colab": {
          "base_uri": "https://localhost:8080/",
          "height": 181
        }
      },
      "source": [
        "#Descripciones\n",
        "print(dataset.describe())"
      ],
      "execution_count": 8,
      "outputs": [
        {
          "output_type": "stream",
          "text": [
            "       Largo_sepalo  Ancho_sepalo  Largo_Petalo  Ancho_Petalo\n",
            "count    150.000000    150.000000    150.000000    150.000000\n",
            "mean       5.843333      3.054000      3.758667      1.198667\n",
            "std        0.828066      0.433594      1.764420      0.763161\n",
            "min        4.300000      2.000000      1.000000      0.100000\n",
            "25%        5.100000      2.800000      1.600000      0.300000\n",
            "50%        5.800000      3.000000      4.350000      1.300000\n",
            "75%        6.400000      3.300000      5.100000      1.800000\n",
            "max        7.900000      4.400000      6.900000      2.500000\n"
          ],
          "name": "stdout"
        }
      ]
    },
    {
      "cell_type": "code",
      "metadata": {
        "id": "XD8smiSziIL1",
        "outputId": "3e027bc9-a699-401c-8c5f-9b2f45ac9a00",
        "colab": {
          "base_uri": "https://localhost:8080/",
          "height": 108
        }
      },
      "source": [
        "#Distribucion de clases\n",
        "print(dataset.groupby('Especie').size())"
      ],
      "execution_count": 11,
      "outputs": [
        {
          "output_type": "stream",
          "text": [
            "Especie\n",
            "Iris-setosa        50\n",
            "Iris-versicolor    50\n",
            "Iris-virginica     50\n",
            "dtype: int64\n"
          ],
          "name": "stdout"
        }
      ]
    },
    {
      "cell_type": "code",
      "metadata": {
        "id": "jKtJGClSiy_a",
        "outputId": "63efa744-fea3-43e6-e504-da5abf68f16e",
        "colab": {
          "base_uri": "https://localhost:8080/",
          "height": 268
        }
      },
      "source": [
        "#Grafico de caja\n",
        "dataset.plot(kind='box', subplots=True, layout=(2,2), sharex=False, sharey=False)\n",
        "pyplot.show()"
      ],
      "execution_count": 12,
      "outputs": [
        {
          "output_type": "display_data",
          "data": {
            "image/png": "[encoded data removed]",
            "text/plain": [
              "<Figure size 432x288 with 4 Axes>"
            ]
          },
          "metadata": {
            "tags": [],
            "needs_background": "light"
          }
        }
      ]
    },
    {
      "cell_type": "code",
      "metadata": {
        "id": "R8L6n6YYjTOt",
        "outputId": "eae0cacd-4364-4aae-c05f-dc89768aef6a",
        "colab": {
          "base_uri": "https://localhost:8080/",
          "height": 281
        }
      },
      "source": [
        "#Creamos un histograma\n",
        "dataset.hist()\n",
        "pyplot.show()"
      ],
      "execution_count": 13,
      "outputs": [
        {
          "output_type": "display_data",
          "data": {
            "image/png": "[encoded data removed]",
            "text/plain": [
              "<Figure size 432x288 with 4 Axes>"
            ]
          },
          "metadata": {
            "tags": [],
            "needs_background": "light"
          }
        }
      ]
    },
    {
      "cell_type": "code",
      "metadata": {
        "id": "7vGx8YNEjg2J",
        "outputId": "46780f7d-f5bc-49cd-f2cd-9c9a15091e37",
        "colab": {
          "base_uri": "https://localhost:8080/",
          "height": 289
        }
      },
      "source": [
        "#Un grafico multivariado\n",
        "scatter_matrix(dataset)\n",
        "pyplot.show()"
      ],
      "execution_count": 14,
      "outputs": [
        {
          "output_type": "display_data",
          "data": {
            "image/png": "[encoded data removed]",
            "text/plain": [
              "<Figure size 432x288 with 16 Axes>"
            ]
          },
          "metadata": {
            "tags": [],
            "needs_background": "light"
          }
        }
      ]
    },
    {
      "cell_type": "code",
      "metadata": {
        "id": "qSN39pb-kJWd"
      },
      "source": [
        "#Separamos los datos de validacion del dataset\n",
        "array= dataset.values\n",
        "x=array[:,0:4]\n",
        "y=array[:,4]\n",
        "\n",
        "x_train, x_validation, y_train, y_validation=train_test_split(x, y, test_size=0.20, random_state=1)"
      ],
      "execution_count": 15,
      "outputs": []
    },
    {
      "cell_type": "code",
      "metadata": {
        "id": "6mMFeTc0lmQm",
        "outputId": "0f08248b-31cf-4c2f-ca3c-fd1beb45c277",
        "colab": {
          "base_uri": "https://localhost:8080/",
          "height": 126
        }
      },
      "source": [
        "#Como seleccionar el mejor algoritmo para construir el modelo de red neuronal\n",
        "\n",
        "modelos=[]\n",
        "modelos.append(('LR', LogisticRegression(solver='liblinear', multi_class='ovr')))\n",
        "modelos.append(('LDA', LinearDiscriminantAnalysis()))\n",
        "modelos.append(('KNN', KNeighborsClassifier()))\n",
        "modelos.append(('CART', DecisionTreeClassifier()))\n",
        "modelos.append(('NB', GaussianNB()))\n",
        "modelos.append(('SVM', SVC(gamma='auto')))\n",
        "\n",
        "#Se evalua cada modelo por turno\n",
        "\n",
        "resultados=[]\n",
        "nombres=[]\n",
        "for nombre, modelo in modelos:\n",
        "  kfold=StratifiedKFold(n_splits=10,random_state=1, shuffle=True)\n",
        "  cv_results=cross_val_score(modelo, x_train, y_train, cv=kfold, scoring='accuracy')\n",
        "  resultados.append(cv_results)\n",
        "  nombres.append(nombre)\n",
        "  print('%s: %f (%f)'% (nombre, cv_results.mean(), cv_results.std()))"
      ],
      "execution_count": 17,
      "outputs": [
        {
          "output_type": "stream",
          "text": [
            "LR: 0.941667 (0.065085)\n",
            "LDA: 0.975000 (0.038188)\n",
            "KNN: 0.958333 (0.041667)\n",
            "CART: 0.950000 (0.055277)\n",
            "NB: 0.950000 (0.055277)\n",
            "SVM: 0.983333 (0.033333)\n"
          ],
          "name": "stdout"
        }
      ]
    },
    {
      "cell_type": "code",
      "metadata": {
        "id": "QypMgvDVp_sC",
        "outputId": "789eac68-0a98-476a-ccdb-798ae2c04329",
        "colab": {
          "base_uri": "https://localhost:8080/",
          "height": 281
        }
      },
      "source": [
        "#Comparación de algoritmos\n",
        "pyplot.boxplot(resultados, labels=nombres)\n",
        "pyplot.title('Comparación de Algoritmos')\n",
        "pyplot.show()"
      ],
      "execution_count": 18,
      "outputs": [
        {
          "output_type": "display_data",
          "data": {
            "image/png": "[encoded data removed]",
            "text/plain": [
              "<Figure size 432x288 with 1 Axes>"
            ]
          },
          "metadata": {
            "tags": [],
            "needs_background": "light"
          }
        }
      ]
    },
    {
      "cell_type": "code",
      "metadata": {
        "id": "ymjHq6EnqozF"
      },
      "source": [
        "#Hacer predicciones con el dataset de validación\n",
        "modelo=SVC(gamma='auto')\n",
        "modelo.fit(x_train, y_train)\n",
        "prediccion=modelo.predict(x_validation)"
      ],
      "execution_count": 19,
      "outputs": []
    },
    {
      "cell_type": "code",
      "metadata": {
        "id": "IDLYUtjTrCdY",
        "outputId": "5dd919f4-f0e4-4e7e-fe49-6becc92efcda",
        "colab": {
          "base_uri": "https://localhost:8080/",
          "height": 272
        }
      },
      "source": [
        "#Evaluar la prediccion\n",
        "print(accuracy_score(y_validation, prediccion))\n",
        "print(confusion_matrix(y_validation, prediccion))\n",
        "print(classification_report(y_validation, prediccion))"
      ],
      "execution_count": 20,
      "outputs": [
        {
          "output_type": "stream",
          "text": [
            "0.9666666666666667\n",
            "[[11  0  0]\n",
            " [ 0 12  1]\n",
            " [ 0  0  6]]\n",
            "                 precision    recall  f1-score   support\n",
            "\n",
            "    Iris-setosa       1.00      1.00      1.00        11\n",
            "Iris-versicolor       1.00      0.92      0.96        13\n",
            " Iris-virginica       0.86      1.00      0.92         6\n",
            "\n",
            "       accuracy                           0.97        30\n",
            "      macro avg       0.95      0.97      0.96        30\n",
            "   weighted avg       0.97      0.97      0.97        30\n",
            "\n"
          ],
          "name": "stdout"
        }
      ]
    },
    {
      "cell_type": "markdown",
      "metadata": {
        "id": "UkZ5nn_drurH"
      },
      "source": [
        "##Usando otros metodo"
      ]
    },
    {
      "cell_type": "code",
      "metadata": {
        "id": "jJu3FjL1V3-t",
        "outputId": "56a468a2-bf60-4443-99ee-aaf27653ffdc",
        "colab": {
          "base_uri": "https://localhost:8080/",
          "height": 71
        }
      },
      "source": [
        "train_path = tf.keras.utils.get_file('iris_training.csv', 'https://storage.googleapis.com/download.tensorflow.org/data/iris_training.csv')\n",
        "test_path = tf.keras.utils.get_file('iris_test.csv', 'https://storage.googleapis.com/download.tensorflow.org/data/iris_test.csv')\n",
        "\n",
        "train = pd.read_csv(train_path, names=CSV_COLUMN_NAMES, header=0)\n",
        "test = pd.read_csv(test_path, names=CSV_COLUMN_NAMES, header=0)"
      ],
      "execution_count": null,
      "outputs": [
        {
          "output_type": "stream",
          "text": [
            "Downloading data from https://storage.googleapis.com/download.tensorflow.org/data/iris_test.csv\n",
            "8192/573 [============================================================================================================================================================================================================================================================================================================================================================================================================================================] - 0s 0us/step\n"
          ],
          "name": "stdout"
        }
      ]
    },
    {
      "cell_type": "code",
      "metadata": {
        "id": "rFAVO2lOXK18",
        "outputId": "3c84a1bd-b80c-4092-871c-f89ef1190875",
        "colab": {
          "base_uri": "https://localhost:8080/",
          "height": 204
        }
      },
      "source": [
        "train.head()"
      ],
      "execution_count": null,
      "outputs": [
        {
          "output_type": "execute_result",
          "data": {
            "text/html": [
              "<div>\n",
              "<style scoped>\n",
              "    .dataframe tbody tr th:only-of-type {\n",
              "        vertical-align: middle;\n",
              "    }\n",
              "\n",
              "    .dataframe tbody tr th {\n",
              "        vertical-align: top;\n",
              "    }\n",
              "\n",
              "    .dataframe thead th {\n",
              "        text-align: right;\n",
              "    }\n",
              "</style>\n",
              "<table border=\"1\" class=\"dataframe\">\n",
              "  <thead>\n",
              "    <tr style=\"text-align: right;\">\n",
              "      <th></th>\n",
              "      <th>Largo_sepalo</th>\n",
              "      <th>Ancho_sepalo</th>\n",
              "      <th>Largo_Petalo</th>\n",
              "      <th>Ancho_Petalo</th>\n",
              "      <th>Especie</th>\n",
              "    </tr>\n",
              "  </thead>\n",
              "  <tbody>\n",
              "    <tr>\n",
              "      <th>0</th>\n",
              "      <td>6.4</td>\n",
              "      <td>2.8</td>\n",
              "      <td>5.6</td>\n",
              "      <td>2.2</td>\n",
              "      <td>2</td>\n",
              "    </tr>\n",
              "    <tr>\n",
              "      <th>1</th>\n",
              "      <td>5.0</td>\n",
              "      <td>2.3</td>\n",
              "      <td>3.3</td>\n",
              "      <td>1.0</td>\n",
              "      <td>1</td>\n",
              "    </tr>\n",
              "    <tr>\n",
              "      <th>2</th>\n",
              "      <td>4.9</td>\n",
              "      <td>2.5</td>\n",
              "      <td>4.5</td>\n",
              "      <td>1.7</td>\n",
              "      <td>2</td>\n",
              "    </tr>\n",
              "    <tr>\n",
              "      <th>3</th>\n",
              "      <td>4.9</td>\n",
              "      <td>3.1</td>\n",
              "      <td>1.5</td>\n",
              "      <td>0.1</td>\n",
              "      <td>0</td>\n",
              "    </tr>\n",
              "    <tr>\n",
              "      <th>4</th>\n",
              "      <td>5.7</td>\n",
              "      <td>3.8</td>\n",
              "      <td>1.7</td>\n",
              "      <td>0.3</td>\n",
              "      <td>0</td>\n",
              "    </tr>\n",
              "  </tbody>\n",
              "</table>\n",
              "</div>"
            ],
            "text/plain": [
              "   Largo_sepalo  Ancho_sepalo  Largo_Petalo  Ancho_Petalo  Especie\n",
              "0           6.4           2.8           5.6           2.2        2\n",
              "1           5.0           2.3           3.3           1.0        1\n",
              "2           4.9           2.5           4.5           1.7        2\n",
              "3           4.9           3.1           1.5           0.1        0\n",
              "4           5.7           3.8           1.7           0.3        0"
            ]
          },
          "metadata": {
            "tags": []
          },
          "execution_count": 15
        }
      ]
    },
    {
      "cell_type": "code",
      "metadata": {
        "id": "qO2Fgsx9Xblf"
      },
      "source": [
        "train_y = train.pop('Especie')\n",
        "test_y = test.pop('Especie')\n"
      ],
      "execution_count": null,
      "outputs": []
    },
    {
      "cell_type": "code",
      "metadata": {
        "id": "r5yKXb3cYttF",
        "outputId": "a5a47463-ac44-47ed-8665-5b18ac97443f",
        "colab": {
          "base_uri": "https://localhost:8080/",
          "height": 204
        }
      },
      "source": [
        "train.head()"
      ],
      "execution_count": null,
      "outputs": [
        {
          "output_type": "execute_result",
          "data": {
            "text/html": [
              "<div>\n",
              "<style scoped>\n",
              "    .dataframe tbody tr th:only-of-type {\n",
              "        vertical-align: middle;\n",
              "    }\n",
              "\n",
              "    .dataframe tbody tr th {\n",
              "        vertical-align: top;\n",
              "    }\n",
              "\n",
              "    .dataframe thead th {\n",
              "        text-align: right;\n",
              "    }\n",
              "</style>\n",
              "<table border=\"1\" class=\"dataframe\">\n",
              "  <thead>\n",
              "    <tr style=\"text-align: right;\">\n",
              "      <th></th>\n",
              "      <th>Largo_sepalo</th>\n",
              "      <th>Ancho_sepalo</th>\n",
              "      <th>Largo_Petalo</th>\n",
              "      <th>Ancho_Petalo</th>\n",
              "    </tr>\n",
              "  </thead>\n",
              "  <tbody>\n",
              "    <tr>\n",
              "      <th>0</th>\n",
              "      <td>6.4</td>\n",
              "      <td>2.8</td>\n",
              "      <td>5.6</td>\n",
              "      <td>2.2</td>\n",
              "    </tr>\n",
              "    <tr>\n",
              "      <th>1</th>\n",
              "      <td>5.0</td>\n",
              "      <td>2.3</td>\n",
              "      <td>3.3</td>\n",
              "      <td>1.0</td>\n",
              "    </tr>\n",
              "    <tr>\n",
              "      <th>2</th>\n",
              "      <td>4.9</td>\n",
              "      <td>2.5</td>\n",
              "      <td>4.5</td>\n",
              "      <td>1.7</td>\n",
              "    </tr>\n",
              "    <tr>\n",
              "      <th>3</th>\n",
              "      <td>4.9</td>\n",
              "      <td>3.1</td>\n",
              "      <td>1.5</td>\n",
              "      <td>0.1</td>\n",
              "    </tr>\n",
              "    <tr>\n",
              "      <th>4</th>\n",
              "      <td>5.7</td>\n",
              "      <td>3.8</td>\n",
              "      <td>1.7</td>\n",
              "      <td>0.3</td>\n",
              "    </tr>\n",
              "  </tbody>\n",
              "</table>\n",
              "</div>"
            ],
            "text/plain": [
              "   Largo_sepalo  Ancho_sepalo  Largo_Petalo  Ancho_Petalo\n",
              "0           6.4           2.8           5.6           2.2\n",
              "1           5.0           2.3           3.3           1.0\n",
              "2           4.9           2.5           4.5           1.7\n",
              "3           4.9           3.1           1.5           0.1\n",
              "4           5.7           3.8           1.7           0.3"
            ]
          },
          "metadata": {
            "tags": []
          },
          "execution_count": 17
        }
      ]
    },
    {
      "cell_type": "code",
      "metadata": {
        "id": "6kbE3y61Y4iM",
        "outputId": "31359c90-3114-4e90-dd59-4202555e6b60",
        "colab": {
          "base_uri": "https://localhost:8080/",
          "height": 204
        }
      },
      "source": [
        "test.head()"
      ],
      "execution_count": null,
      "outputs": [
        {
          "output_type": "execute_result",
          "data": {
            "text/html": [
              "<div>\n",
              "<style scoped>\n",
              "    .dataframe tbody tr th:only-of-type {\n",
              "        vertical-align: middle;\n",
              "    }\n",
              "\n",
              "    .dataframe tbody tr th {\n",
              "        vertical-align: top;\n",
              "    }\n",
              "\n",
              "    .dataframe thead th {\n",
              "        text-align: right;\n",
              "    }\n",
              "</style>\n",
              "<table border=\"1\" class=\"dataframe\">\n",
              "  <thead>\n",
              "    <tr style=\"text-align: right;\">\n",
              "      <th></th>\n",
              "      <th>Largo_sepalo</th>\n",
              "      <th>Ancho_sepalo</th>\n",
              "      <th>Largo_Petalo</th>\n",
              "      <th>Ancho_Petalo</th>\n",
              "    </tr>\n",
              "  </thead>\n",
              "  <tbody>\n",
              "    <tr>\n",
              "      <th>0</th>\n",
              "      <td>5.9</td>\n",
              "      <td>3.0</td>\n",
              "      <td>4.2</td>\n",
              "      <td>1.5</td>\n",
              "    </tr>\n",
              "    <tr>\n",
              "      <th>1</th>\n",
              "      <td>6.9</td>\n",
              "      <td>3.1</td>\n",
              "      <td>5.4</td>\n",
              "      <td>2.1</td>\n",
              "    </tr>\n",
              "    <tr>\n",
              "      <th>2</th>\n",
              "      <td>5.1</td>\n",
              "      <td>3.3</td>\n",
              "      <td>1.7</td>\n",
              "      <td>0.5</td>\n",
              "    </tr>\n",
              "    <tr>\n",
              "      <th>3</th>\n",
              "      <td>6.0</td>\n",
              "      <td>3.4</td>\n",
              "      <td>4.5</td>\n",
              "      <td>1.6</td>\n",
              "    </tr>\n",
              "    <tr>\n",
              "      <th>4</th>\n",
              "      <td>5.5</td>\n",
              "      <td>2.5</td>\n",
              "      <td>4.0</td>\n",
              "      <td>1.3</td>\n",
              "    </tr>\n",
              "  </tbody>\n",
              "</table>\n",
              "</div>"
            ],
            "text/plain": [
              "   Largo_sepalo  Ancho_sepalo  Largo_Petalo  Ancho_Petalo\n",
              "0           5.9           3.0           4.2           1.5\n",
              "1           6.9           3.1           5.4           2.1\n",
              "2           5.1           3.3           1.7           0.5\n",
              "3           6.0           3.4           4.5           1.6\n",
              "4           5.5           2.5           4.0           1.3"
            ]
          },
          "metadata": {
            "tags": []
          },
          "execution_count": 18
        }
      ]
    },
    {
      "cell_type": "code",
      "metadata": {
        "id": "cBSwxNb2Y94t",
        "outputId": "b4225338-c962-45d5-c2d3-f045c5a4e509",
        "colab": {
          "base_uri": "https://localhost:8080/",
          "height": 34
        }
      },
      "source": [
        "train.shape"
      ],
      "execution_count": null,
      "outputs": [
        {
          "output_type": "execute_result",
          "data": {
            "text/plain": [
              "(120, 4)"
            ]
          },
          "metadata": {
            "tags": []
          },
          "execution_count": 19
        }
      ]
    },
    {
      "cell_type": "code",
      "metadata": {
        "id": "8V77wFD5ZnkI",
        "outputId": "772624bb-70ae-47fe-bf1b-decd0e309d70",
        "colab": {
          "base_uri": "https://localhost:8080/",
          "height": 34
        }
      },
      "source": [
        "test.shape"
      ],
      "execution_count": null,
      "outputs": [
        {
          "output_type": "execute_result",
          "data": {
            "text/plain": [
              "(30, 4)"
            ]
          },
          "metadata": {
            "tags": []
          },
          "execution_count": 20
        }
      ]
    },
    {
      "cell_type": "code",
      "metadata": {
        "id": "TAsbGTylZ-FX"
      },
      "source": [
        "def input_fn(features, labels, training=True, batch_size=256):\n",
        "  dataset=tf.data.Dataset.from_tensor_slices((dict(features),labels))\n",
        "  if training:\n",
        "    dataset= dataset.shuffle(1000).repeat()\n",
        "  return dataset.batch(batch_size)"
      ],
      "execution_count": null,
      "outputs": []
    },
    {
      "cell_type": "code",
      "metadata": {
        "id": "9UVCKpmMdDUJ",
        "outputId": "ca63c745-db06-4345-d1d3-efac4af2b217",
        "colab": {
          "base_uri": "https://localhost:8080/",
          "height": 54
        }
      },
      "source": [
        "my_feature_columns=[]\n",
        "\n",
        "for key in train.keys():\n",
        "  my_feature_columns.append(tf.feature_column.numeric_column(key=key))\n",
        "print(my_feature_columns)"
      ],
      "execution_count": null,
      "outputs": [
        {
          "output_type": "stream",
          "text": [
            "[NumericColumn(key='Largo_sepalo', shape=(1,), default_value=None, dtype=tf.float32, normalizer_fn=None), NumericColumn(key='Ancho_sepalo', shape=(1,), default_value=None, dtype=tf.float32, normalizer_fn=None), NumericColumn(key='Largo_Petalo', shape=(1,), default_value=None, dtype=tf.float32, normalizer_fn=None), NumericColumn(key='Ancho_Petalo', shape=(1,), default_value=None, dtype=tf.float32, normalizer_fn=None)]\n"
          ],
          "name": "stdout"
        }
      ]
    },
    {
      "cell_type": "markdown",
      "metadata": {
        "id": "aF5fEk6dfn4Z"
      },
      "source": [
        "CONSTRUIMOS UN MODELO DDN CON 2 CAPAS OCULTAS DE 30 Y 10 NODOS RESPECTIVAMENTE"
      ]
    },
    {
      "cell_type": "code",
      "metadata": {
        "id": "5MPFAEkod88t",
        "outputId": "93ad0c13-4708-4efa-9f22-97cacbcb5c9b",
        "colab": {
          "base_uri": "https://localhost:8080/",
          "height": 190
        }
      },
      "source": [
        "clasificador=tf.estimator.DNNClassifier(feature_columns=my_feature_columns, hidden_units=[30,10], n_classes=3)\n",
        "#EL modelo debe escoger entre 3 clases de flores"
      ],
      "execution_count": null,
      "outputs": [
        {
          "output_type": "stream",
          "text": [
            "INFO:tensorflow:Using default config.\n",
            "WARNING:tensorflow:Using temporary folder as model directory: /tmp/tmp98lt825t\n",
            "INFO:tensorflow:Using config: {'_model_dir': '/tmp/tmp98lt825t', '_tf_random_seed': None, '_save_summary_steps': 100, '_save_checkpoints_steps': None, '_save_checkpoints_secs': 600, '_session_config': allow_soft_placement: true\n",
            "graph_options {\n",
            "  rewrite_options {\n",
            "    meta_optimizer_iterations: ONE\n",
            "  }\n",
            "}\n",
            ", '_keep_checkpoint_max': 5, '_keep_checkpoint_every_n_hours': 10000, '_log_step_count_steps': 100, '_train_distribute': None, '_device_fn': None, '_protocol': None, '_eval_distribute': None, '_experimental_distribute': None, '_experimental_max_worker_delay_secs': None, '_session_creation_timeout_secs': 7200, '_service': None, '_cluster_spec': ClusterSpec({}), '_task_type': 'worker', '_task_id': 0, '_global_id_in_cluster': 0, '_master': '', '_evaluation_master': '', '_is_chief': True, '_num_ps_replicas': 0, '_num_worker_replicas': 1}\n"
          ],
          "name": "stdout"
        }
      ]
    },
    {
      "cell_type": "code",
      "metadata": {
        "id": "lT8t3V4FgWRo",
        "outputId": "366ee716-01fb-4df0-a890-6a60c5498ef2",
        "colab": {
          "base_uri": "https://localhost:8080/",
          "height": 1000
        }
      },
      "source": [
        "clasificador.train(input_fn=lambda: input_fn(train,train_y,training=True),steps=5000)"
      ],
      "execution_count": null,
      "outputs": [
        {
          "output_type": "stream",
          "text": [
            "ERROR! Session/line number was not unique in database. History logging moved to new session 59\n",
            "WARNING:tensorflow:From /usr/local/lib/python3.6/dist-packages/tensorflow/python/ops/resource_variable_ops.py:1666: calling BaseResourceVariable.__init__ (from tensorflow.python.ops.resource_variable_ops) with constraint is deprecated and will be removed in a future version.\n",
            "Instructions for updating:\n",
            "If using Keras pass *_constraint arguments to layers.\n",
            "WARNING:tensorflow:From /usr/local/lib/python3.6/dist-packages/tensorflow/python/training/training_util.py:236: Variable.initialized_value (from tensorflow.python.ops.variables) is deprecated and will be removed in a future version.\n",
            "Instructions for updating:\n",
            "Use Variable.read_value. Variables in 2.X are initialized automatically both in eager and graph (inside tf.defun) contexts.\n",
            "INFO:tensorflow:Calling model_fn.\n",
            "WARNING:tensorflow:Layer dnn is casting an input tensor from dtype float64 to the layer's dtype of float32, which is new behavior in TensorFlow 2.  The layer has dtype float32 because it's dtype defaults to floatx.\n",
            "\n",
            "If you intended to run this layer in float32, you can safely ignore this warning. If in doubt, this warning is likely only an issue if you are porting a TensorFlow 1.X model to TensorFlow 2.\n",
            "\n",
            "To change all layers to have dtype float64 by default, call `tf.keras.backend.set_floatx('float64')`. To change just this layer, pass dtype='float64' to the layer constructor. If you are the author of this layer, you can disable autocasting by passing autocast=False to the base Layer constructor.\n",
            "\n",
            "WARNING:tensorflow:From /usr/local/lib/python3.6/dist-packages/tensorflow/python/keras/optimizer_v2/adagrad.py:106: calling Constant.__init__ (from tensorflow.python.ops.init_ops) with dtype is deprecated and will be removed in a future version.\n",
            "Instructions for updating:\n",
            "Call initializer instance with the dtype argument instead of passing it to the constructor\n",
            "INFO:tensorflow:Done calling model_fn.\n",
            "INFO:tensorflow:Create CheckpointSaverHook.\n",
            "INFO:tensorflow:Graph was finalized.\n",
            "INFO:tensorflow:Running local_init_op.\n",
            "INFO:tensorflow:Done running local_init_op.\n",
            "INFO:tensorflow:Calling checkpoint listeners before saving checkpoint 0...\n",
            "INFO:tensorflow:Saving checkpoints for 0 into /tmp/tmp98lt825t/model.ckpt.\n",
            "INFO:tensorflow:Calling checkpoint listeners after saving checkpoint 0...\n",
            "INFO:tensorflow:loss = 1.8816447, step = 0\n",
            "INFO:tensorflow:global_step/sec: 349.265\n",
            "INFO:tensorflow:loss = 1.1979852, step = 100 (0.288 sec)\n",
            "INFO:tensorflow:global_step/sec: 394.504\n",
            "INFO:tensorflow:loss = 1.0641142, step = 200 (0.253 sec)\n",
            "INFO:tensorflow:global_step/sec: 428.673\n",
            "INFO:tensorflow:loss = 0.9844009, step = 300 (0.234 sec)\n",
            "INFO:tensorflow:global_step/sec: 410.894\n",
            "INFO:tensorflow:loss = 0.91593444, step = 400 (0.242 sec)\n",
            "INFO:tensorflow:global_step/sec: 433.942\n",
            "INFO:tensorflow:loss = 0.8973005, step = 500 (0.231 sec)\n",
            "INFO:tensorflow:global_step/sec: 411.122\n",
            "INFO:tensorflow:loss = 0.86445385, step = 600 (0.243 sec)\n",
            "INFO:tensorflow:global_step/sec: 427.761\n",
            "INFO:tensorflow:loss = 0.8350878, step = 700 (0.234 sec)\n",
            "INFO:tensorflow:global_step/sec: 421.312\n",
            "INFO:tensorflow:loss = 0.806062, step = 800 (0.240 sec)\n",
            "INFO:tensorflow:global_step/sec: 404.404\n",
            "INFO:tensorflow:loss = 0.79818726, step = 900 (0.245 sec)\n",
            "INFO:tensorflow:global_step/sec: 434.66\n",
            "INFO:tensorflow:loss = 0.77215385, step = 1000 (0.233 sec)\n",
            "INFO:tensorflow:global_step/sec: 403.874\n",
            "INFO:tensorflow:loss = 0.76334715, step = 1100 (0.247 sec)\n",
            "INFO:tensorflow:global_step/sec: 417.245\n",
            "INFO:tensorflow:loss = 0.73890406, step = 1200 (0.240 sec)\n",
            "INFO:tensorflow:global_step/sec: 399.915\n",
            "INFO:tensorflow:loss = 0.7238396, step = 1300 (0.249 sec)\n",
            "INFO:tensorflow:global_step/sec: 423.742\n",
            "INFO:tensorflow:loss = 0.7052968, step = 1400 (0.235 sec)\n",
            "INFO:tensorflow:global_step/sec: 377.034\n",
            "INFO:tensorflow:loss = 0.6940477, step = 1500 (0.267 sec)\n",
            "INFO:tensorflow:global_step/sec: 420.75\n",
            "INFO:tensorflow:loss = 0.6868477, step = 1600 (0.236 sec)\n",
            "INFO:tensorflow:global_step/sec: 401.761\n",
            "INFO:tensorflow:loss = 0.6762929, step = 1700 (0.251 sec)\n",
            "INFO:tensorflow:global_step/sec: 422.86\n",
            "INFO:tensorflow:loss = 0.66311544, step = 1800 (0.237 sec)\n",
            "INFO:tensorflow:global_step/sec: 390.936\n",
            "INFO:tensorflow:loss = 0.6536062, step = 1900 (0.256 sec)\n",
            "INFO:tensorflow:global_step/sec: 421.384\n",
            "INFO:tensorflow:loss = 0.63485825, step = 2000 (0.237 sec)\n",
            "INFO:tensorflow:global_step/sec: 414.155\n",
            "INFO:tensorflow:loss = 0.6242932, step = 2100 (0.241 sec)\n",
            "INFO:tensorflow:global_step/sec: 407.318\n",
            "INFO:tensorflow:loss = 0.62058574, step = 2200 (0.243 sec)\n",
            "INFO:tensorflow:global_step/sec: 400.475\n",
            "INFO:tensorflow:loss = 0.59422576, step = 2300 (0.253 sec)\n",
            "INFO:tensorflow:global_step/sec: 384.793\n",
            "INFO:tensorflow:loss = 0.5938438, step = 2400 (0.260 sec)\n",
            "INFO:tensorflow:global_step/sec: 416.359\n",
            "INFO:tensorflow:loss = 0.58156955, step = 2500 (0.239 sec)\n",
            "INFO:tensorflow:global_step/sec: 423.315\n",
            "INFO:tensorflow:loss = 0.57002836, step = 2600 (0.238 sec)\n",
            "INFO:tensorflow:global_step/sec: 404.819\n",
            "INFO:tensorflow:loss = 0.5663025, step = 2700 (0.245 sec)\n",
            "INFO:tensorflow:global_step/sec: 412.296\n",
            "INFO:tensorflow:loss = 0.548324, step = 2800 (0.244 sec)\n",
            "INFO:tensorflow:global_step/sec: 415.923\n",
            "INFO:tensorflow:loss = 0.54826266, step = 2900 (0.239 sec)\n",
            "INFO:tensorflow:global_step/sec: 403.839\n",
            "INFO:tensorflow:loss = 0.54548705, step = 3000 (0.249 sec)\n",
            "INFO:tensorflow:global_step/sec: 406.627\n",
            "INFO:tensorflow:loss = 0.534491, step = 3100 (0.245 sec)\n",
            "INFO:tensorflow:global_step/sec: 429.038\n",
            "INFO:tensorflow:loss = 0.5350753, step = 3200 (0.235 sec)\n",
            "INFO:tensorflow:global_step/sec: 409.444\n",
            "INFO:tensorflow:loss = 0.5282517, step = 3300 (0.242 sec)\n",
            "INFO:tensorflow:global_step/sec: 416.125\n",
            "INFO:tensorflow:loss = 0.5221589, step = 3400 (0.241 sec)\n",
            "INFO:tensorflow:global_step/sec: 398.93\n",
            "INFO:tensorflow:loss = 0.50683457, step = 3500 (0.251 sec)\n",
            "INFO:tensorflow:global_step/sec: 399.899\n",
            "INFO:tensorflow:loss = 0.5131836, step = 3600 (0.252 sec)\n",
            "INFO:tensorflow:global_step/sec: 428.97\n",
            "INFO:tensorflow:loss = 0.48993456, step = 3700 (0.233 sec)\n",
            "INFO:tensorflow:global_step/sec: 409.079\n",
            "INFO:tensorflow:loss = 0.5064204, step = 3800 (0.244 sec)\n",
            "INFO:tensorflow:global_step/sec: 427.216\n",
            "INFO:tensorflow:loss = 0.5013084, step = 3900 (0.233 sec)\n",
            "INFO:tensorflow:global_step/sec: 408.17\n",
            "INFO:tensorflow:loss = 0.5094706, step = 4000 (0.244 sec)\n",
            "INFO:tensorflow:global_step/sec: 424.972\n",
            "INFO:tensorflow:loss = 0.4904529, step = 4100 (0.236 sec)\n",
            "INFO:tensorflow:global_step/sec: 421.686\n",
            "INFO:tensorflow:loss = 0.48201877, step = 4200 (0.240 sec)\n",
            "INFO:tensorflow:global_step/sec: 404.391\n",
            "INFO:tensorflow:loss = 0.4724563, step = 4300 (0.245 sec)\n",
            "INFO:tensorflow:global_step/sec: 410.197\n",
            "INFO:tensorflow:loss = 0.47857204, step = 4400 (0.244 sec)\n",
            "INFO:tensorflow:global_step/sec: 419.791\n",
            "INFO:tensorflow:loss = 0.47222143, step = 4500 (0.240 sec)\n",
            "INFO:tensorflow:global_step/sec: 424.077\n",
            "INFO:tensorflow:loss = 0.4713676, step = 4600 (0.234 sec)\n",
            "INFO:tensorflow:global_step/sec: 400.544\n",
            "INFO:tensorflow:loss = 0.45106363, step = 4700 (0.252 sec)\n",
            "INFO:tensorflow:global_step/sec: 399.866\n",
            "INFO:tensorflow:loss = 0.46441597, step = 4800 (0.247 sec)\n",
            "INFO:tensorflow:global_step/sec: 433.609\n",
            "INFO:tensorflow:loss = 0.4567153, step = 4900 (0.233 sec)\n",
            "INFO:tensorflow:Calling checkpoint listeners before saving checkpoint 5000...\n",
            "INFO:tensorflow:Saving checkpoints for 5000 into /tmp/tmp98lt825t/model.ckpt.\n",
            "INFO:tensorflow:Calling checkpoint listeners after saving checkpoint 5000...\n",
            "INFO:tensorflow:Loss for final step: 0.46512333.\n"
          ],
          "name": "stdout"
        },
        {
          "output_type": "execute_result",
          "data": {
            "text/plain": [
              "<tensorflow_estimator.python.estimator.canned.dnn.DNNClassifierV2 at 0x7fd49460a0b8>"
            ]
          },
          "metadata": {
            "tags": []
          },
          "execution_count": 24
        }
      ]
    },
    {
      "cell_type": "code",
      "metadata": {
        "id": "OAqttD13hqpx"
      },
      "source": [
        ""
      ],
      "execution_count": null,
      "outputs": []
    }
  ]
}