{
  "nbformat": 4,
  "nbformat_minor": 0,
  "metadata": {
    "colab": {
      "name": "XGBoost_ejercicio.ipynb",
      "provenance": [],
      "collapsed_sections": [],
      "authorship_tag": "ABX9TyOOnMKgD4XInysHJh+nGjF5",
      "include_colab_link": true
    },
    "kernelspec": {
      "name": "python3",
      "display_name": "Python 3"
    }
  },
  "cells": [
    {
      "cell_type": "markdown",
      "metadata": {
        "id": "view-in-github",
        "colab_type": "text"
      },
      "source": [
        "<a href=\"https://colab.research.google.com/github/rubenguerra/datascience/blob/master/XGBoost_ejercicio.ipynb\" target=\"_parent\"><img src=\"https://colab.research.google.com/assets/colab-badge.svg\" alt=\"Open In Colab\"/></a>"
      ]
    },
    {
      "cell_type": "code",
      "metadata": {
        "colab": {
          "base_uri": "https://localhost:8080/"
        },
        "id": "BrK82xvG83uV",
        "outputId": "db89e3d3-494c-424f-9497-62e661cc939a"
      },
      "source": [
        "!pip install xgboost"
      ],
      "execution_count": 9,
      "outputs": [
        {
          "output_type": "stream",
          "text": [
            "Requirement already satisfied: xgboost in /usr/local/lib/python3.7/dist-packages (0.90)\n",
            "Requirement already satisfied: numpy in /usr/local/lib/python3.7/dist-packages (from xgboost) (1.19.5)\n",
            "Requirement already satisfied: scipy in /usr/local/lib/python3.7/dist-packages (from xgboost) (1.4.1)\n"
          ],
          "name": "stdout"
        }
      ]
    },
    {
      "cell_type": "code",
      "metadata": {
        "id": "RNpuHgaF9QAj"
      },
      "source": [
        "# Bajamos las bibliotecas necesarias\r\n",
        "\r\n",
        "from numpy import loadtxt\r\n",
        "from xgboost import XGBClassifier, plot_importance\r\n",
        "from sklearn.model_selection import train_test_split, GridSearchCV, StratifiedKFold\r\n",
        "from sklearn.metrics import accuracy_score\r\n"
      ],
      "execution_count": 19,
      "outputs": []
    },
    {
      "cell_type": "code",
      "metadata": {
        "id": "qnUkpbQvALkP"
      },
      "source": [
        "\r\n",
        "# Cargamos el dataset\r\n",
        "dataset = loadtxt('/content/pima-indians-diabetes.csv', delimiter = ',')\r\n",
        "\r\n"
      ],
      "execution_count": 11,
      "outputs": []
    },
    {
      "cell_type": "code",
      "metadata": {
        "id": "3lH3fQNaAS2v"
      },
      "source": [
        "# Dividimos los datos en X & y\r\n",
        "X = dataset[:, 0:8]\r\n",
        "y = dataset[:, 8]\r\n",
        "\r\n"
      ],
      "execution_count": 12,
      "outputs": []
    },
    {
      "cell_type": "code",
      "metadata": {
        "colab": {
          "base_uri": "https://localhost:8080/",
          "height": 295
        },
        "id": "wksLe3h2AeWd",
        "outputId": "16c167f8-afb8-4f9b-ec6a-1bac29c9406a"
      },
      "source": [
        "import matplotlib.pyplot as plt\r\n",
        "\r\n",
        "\r\n",
        "# Se entrena el modelo con los datos de entrenamiento\r\n",
        "modelo = XGBClassifier()\r\n",
        "modelo.fit(X, y)\r\n",
        "\r\n",
        "# Grafica de la importancia de la característica\r\n",
        "plot_importance(modelo)\r\n",
        "plt.show()"
      ],
      "execution_count": 16,
      "outputs": [
        {
          "output_type": "display_data",
          "data": {
            "image/png": "[encoded data removed]",
            "text/plain": [
              "<Figure size 432x288 with 1 Axes>"
            ]
          },
          "metadata": {
            "tags": [],
            "needs_background": "light"
          }
        }
      ]
    },
    {
      "cell_type": "markdown",
      "metadata": {
        "id": "4RN7jiv7QQxU"
      },
      "source": [
        "# Hiperparámetros"
      ]
    },
    {
      "cell_type": "code",
      "metadata": {
        "id": "KXXWtNP4AgKV"
      },
      "source": [
        "n_estimadores = [50, 100, 150, 200]\r\n",
        "max_prof = [2, 4, 6, 8]\r\n",
        "\r\n",
        "parame_gri = dict(n_estimadores = n_estimadores, max_prof=max_prof)"
      ],
      "execution_count": 17,
      "outputs": []
    },
    {
      "cell_type": "code",
      "metadata": {
        "colab": {
          "base_uri": "https://localhost:8080/"
        },
        "id": "zrBu0fddRWeZ",
        "outputId": "38fda518-9914-419c-ddde-aff24a7807b6"
      },
      "source": [
        "parame_gri"
      ],
      "execution_count": 18,
      "outputs": [
        {
          "output_type": "execute_result",
          "data": {
            "text/plain": [
              "{'max_prof': [2, 4, 6, 8], 'n_estimadores': [50, 100, 150, 200]}"
            ]
          },
          "metadata": {
            "tags": []
          },
          "execution_count": 18
        }
      ]
    },
    {
      "cell_type": "code",
      "metadata": {
        "id": "VXstPlVyRZDJ"
      },
      "source": [
        "modelo = XGBClassifier()\r\n",
        "rata_aprendizaje = [1e-4, 1e-3, 1e-2, 1e-1, 0.2, 0.3]\r\n",
        "parame_gri = dict(rata_aprendizaje=rata_aprendizaje)\r\n",
        "kfold = StratifiedKFold(n_splits=10, shuffle=True, random_state=7)\r\n",
        "busca_grid = GridSearchCV(modelo, param_grid=parame_gri, scoring='neg_log_loss', n_jobs=-1, cv=kfold)\r\n",
        "result_grid = busca_grid.fit(X, y)"
      ],
      "execution_count": 20,
      "outputs": []
    },
    {
      "cell_type": "code",
      "metadata": {
        "colab": {
          "base_uri": "https://localhost:8080/"
        },
        "id": "ksRIW4WbTwSC",
        "outputId": "165dac14-1a91-49c4-8267-6145fac2c90f"
      },
      "source": [
        "# Resumen de los resultados\r\n",
        "\r\n",
        "print('Mejor: %f usando %s' % (result_grid.best_score_, result_grid.best_params_))\r\n",
        "media = result_grid.cv_results_['mean_test_score']\r\n",
        "desviacion_standar = result_grid.cv_results_['std_test_score']\r\n",
        "parametros = result_grid.cv_results_['params']\r\n",
        "for med, desv, param in zip(media, desviacion_standar, parametros):\r\n",
        "  print('%f (%f) con: %r' % (med, desv, param))"
      ],
      "execution_count": 22,
      "outputs": [
        {
          "output_type": "stream",
          "text": [
            "Mejor: -0.487211 usando {'rata_aprendizaje': 0.0001}\n",
            "-0.487211 (0.090035) con: {'rata_aprendizaje': 0.0001}\n",
            "-0.487211 (0.090035) con: {'rata_aprendizaje': 0.001}\n",
            "-0.487211 (0.090035) con: {'rata_aprendizaje': 0.01}\n",
            "-0.487211 (0.090035) con: {'rata_aprendizaje': 0.1}\n",
            "-0.487211 (0.090035) con: {'rata_aprendizaje': 0.2}\n",
            "-0.487211 (0.090035) con: {'rata_aprendizaje': 0.3}\n"
          ],
          "name": "stdout"
        }
      ]
    },
    {
      "cell_type": "code",
      "metadata": {
        "id": "55yIy5xAVNpv"
      },
      "source": [
        ""
      ],
      "execution_count": null,
      "outputs": []
    }
  ]
}